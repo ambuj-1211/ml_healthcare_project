{
 "cells": [
  {
   "cell_type": "markdown",
   "metadata": {},
   "source": [
    "# Import Required Libraries"
   ]
  },
  {
   "cell_type": "code",
   "execution_count": 21,
   "metadata": {},
   "outputs": [],
   "source": [
    "import pandas as pd\n",
    "import numpy as np\n",
    "import matplotlib.pyplot as plt\n",
    "import seaborn as sns\n",
    "%matplotlib inline\n",
    "import nltk\n"
   ]
  },
  {
   "cell_type": "markdown",
   "metadata": {},
   "source": [
    "# Load Dataset"
   ]
  },
  {
   "cell_type": "code",
   "execution_count": 3,
   "metadata": {},
   "outputs": [],
   "source": [
    "df=pd.read_csv(\"drugsComTrain_raw.csv\")"
   ]
  },
  {
   "cell_type": "code",
   "execution_count": 4,
   "metadata": {},
   "outputs": [
    {
     "data": {
      "text/html": [
       "<div>\n",
       "<style scoped>\n",
       "    .dataframe tbody tr th:only-of-type {\n",
       "        vertical-align: middle;\n",
       "    }\n",
       "\n",
       "    .dataframe tbody tr th {\n",
       "        vertical-align: top;\n",
       "    }\n",
       "\n",
       "    .dataframe thead th {\n",
       "        text-align: right;\n",
       "    }\n",
       "</style>\n",
       "<table border=\"1\" class=\"dataframe\">\n",
       "  <thead>\n",
       "    <tr style=\"text-align: right;\">\n",
       "      <th></th>\n",
       "      <th>uniqueID</th>\n",
       "      <th>drugName</th>\n",
       "      <th>condition</th>\n",
       "      <th>review</th>\n",
       "      <th>rating</th>\n",
       "      <th>date</th>\n",
       "      <th>usefulCount</th>\n",
       "    </tr>\n",
       "  </thead>\n",
       "  <tbody>\n",
       "    <tr>\n",
       "      <th>0</th>\n",
       "      <td>206461</td>\n",
       "      <td>Valsartan</td>\n",
       "      <td>Left Ventricular Dysfunction</td>\n",
       "      <td>\"It has no side effect, I take it in combinati...</td>\n",
       "      <td>9</td>\n",
       "      <td>20-May-12</td>\n",
       "      <td>27</td>\n",
       "    </tr>\n",
       "    <tr>\n",
       "      <th>1</th>\n",
       "      <td>95260</td>\n",
       "      <td>Guanfacine</td>\n",
       "      <td>ADHD</td>\n",
       "      <td>\"My son is halfway through his fourth week of ...</td>\n",
       "      <td>8</td>\n",
       "      <td>27-Apr-10</td>\n",
       "      <td>192</td>\n",
       "    </tr>\n",
       "    <tr>\n",
       "      <th>2</th>\n",
       "      <td>92703</td>\n",
       "      <td>Lybrel</td>\n",
       "      <td>Birth Control</td>\n",
       "      <td>\"I used to take another oral contraceptive, wh...</td>\n",
       "      <td>5</td>\n",
       "      <td>14-Dec-09</td>\n",
       "      <td>17</td>\n",
       "    </tr>\n",
       "    <tr>\n",
       "      <th>3</th>\n",
       "      <td>138000</td>\n",
       "      <td>Ortho Evra</td>\n",
       "      <td>Birth Control</td>\n",
       "      <td>\"This is my first time using any form of birth...</td>\n",
       "      <td>8</td>\n",
       "      <td>3-Nov-15</td>\n",
       "      <td>10</td>\n",
       "    </tr>\n",
       "    <tr>\n",
       "      <th>4</th>\n",
       "      <td>35696</td>\n",
       "      <td>Buprenorphine / naloxone</td>\n",
       "      <td>Opiate Dependence</td>\n",
       "      <td>\"Suboxone has completely turned my life around...</td>\n",
       "      <td>9</td>\n",
       "      <td>27-Nov-16</td>\n",
       "      <td>37</td>\n",
       "    </tr>\n",
       "  </tbody>\n",
       "</table>\n",
       "</div>"
      ],
      "text/plain": [
       "   uniqueID                  drugName                     condition  \\\n",
       "0    206461                 Valsartan  Left Ventricular Dysfunction   \n",
       "1     95260                Guanfacine                          ADHD   \n",
       "2     92703                    Lybrel                 Birth Control   \n",
       "3    138000                Ortho Evra                 Birth Control   \n",
       "4     35696  Buprenorphine / naloxone             Opiate Dependence   \n",
       "\n",
       "                                              review  rating       date  \\\n",
       "0  \"It has no side effect, I take it in combinati...       9  20-May-12   \n",
       "1  \"My son is halfway through his fourth week of ...       8  27-Apr-10   \n",
       "2  \"I used to take another oral contraceptive, wh...       5  14-Dec-09   \n",
       "3  \"This is my first time using any form of birth...       8   3-Nov-15   \n",
       "4  \"Suboxone has completely turned my life around...       9  27-Nov-16   \n",
       "\n",
       "   usefulCount  \n",
       "0           27  \n",
       "1          192  \n",
       "2           17  \n",
       "3           10  \n",
       "4           37  "
      ]
     },
     "execution_count": 4,
     "metadata": {},
     "output_type": "execute_result"
    }
   ],
   "source": [
    "df.head()\n"
   ]
  },
  {
   "cell_type": "markdown",
   "metadata": {},
   "source": [
    "## Making stopwords list in stopwords variable "
   ]
  },
  {
   "cell_type": "code",
   "execution_count": 5,
   "metadata": {},
   "outputs": [
    {
     "data": {
      "text/plain": [
       "179"
      ]
     },
     "execution_count": 5,
     "metadata": {},
     "output_type": "execute_result"
    }
   ],
   "source": [
    "stopwords=nltk.corpus.stopwords.words('english')\n",
    "len(stopwords[:])"
   ]
  },
  {
   "cell_type": "markdown",
   "metadata": {},
   "source": [
    "Making cleaned review column to make list of sentences of the column review"
   ]
  },
  {
   "cell_type": "code",
   "execution_count": 6,
   "metadata": {
    "scrolled": true
   },
   "outputs": [
    {
     "data": {
      "text/plain": [
       "0         [\"It, has, no, side, effect,, I, take, it, in,...\n",
       "1         [\"My, son, is, halfway, through, his, fourth, ...\n",
       "2         [\"I, used, to, take, another, oral, contracept...\n",
       "3         [\"This, is, my, first, time, using, any, form,...\n",
       "4         [\"Suboxone, has, completely, turned, my, life,...\n",
       "                                ...                        \n",
       "161292    [\"I, wrote, my, first, report, in, Mid-October...\n",
       "161293    [\"I, was, given, this, in, IV, before, surgey....\n",
       "161294    [\"Limited, improvement, after, 4, months,, dev...\n",
       "161295    [\"I&#039;ve, been, on, thyroid, medication, 49...\n",
       "161296    [\"I&#039;ve, had, chronic, constipation, all, ...\n",
       "Name: cleaned_review, Length: 161297, dtype: object"
      ]
     },
     "execution_count": 6,
     "metadata": {},
     "output_type": "execute_result"
    }
   ],
   "source": [
    "df[\"cleaned_review\"]=df[\"review\"].apply(lambda x:x.split())\n",
    "df[\"cleaned_review\"]"
   ]
  },
  {
   "cell_type": "markdown",
   "metadata": {},
   "source": [
    "    ## removing stop words from sentences lists in cleaned review column"
   ]
  },
  {
   "cell_type": "code",
   "execution_count": 7,
   "metadata": {},
   "outputs": [
    {
     "data": {
      "text/html": [
       "<div>\n",
       "<style scoped>\n",
       "    .dataframe tbody tr th:only-of-type {\n",
       "        vertical-align: middle;\n",
       "    }\n",
       "\n",
       "    .dataframe tbody tr th {\n",
       "        vertical-align: top;\n",
       "    }\n",
       "\n",
       "    .dataframe thead th {\n",
       "        text-align: right;\n",
       "    }\n",
       "</style>\n",
       "<table border=\"1\" class=\"dataframe\">\n",
       "  <thead>\n",
       "    <tr style=\"text-align: right;\">\n",
       "      <th></th>\n",
       "      <th>uniqueID</th>\n",
       "      <th>drugName</th>\n",
       "      <th>condition</th>\n",
       "      <th>review</th>\n",
       "      <th>rating</th>\n",
       "      <th>date</th>\n",
       "      <th>usefulCount</th>\n",
       "      <th>cleaned_review</th>\n",
       "    </tr>\n",
       "  </thead>\n",
       "  <tbody>\n",
       "    <tr>\n",
       "      <th>161292</th>\n",
       "      <td>191035</td>\n",
       "      <td>Campral</td>\n",
       "      <td>Alcohol Dependence</td>\n",
       "      <td>\"I wrote my first report in Mid-October of 201...</td>\n",
       "      <td>10</td>\n",
       "      <td>31-May-15</td>\n",
       "      <td>125</td>\n",
       "      <td>[\"I, wrote, first, report, Mid-October, 2014.,...</td>\n",
       "    </tr>\n",
       "    <tr>\n",
       "      <th>161293</th>\n",
       "      <td>127085</td>\n",
       "      <td>Metoclopramide</td>\n",
       "      <td>Nausea/Vomiting</td>\n",
       "      <td>\"I was given this in IV before surgey. I immed...</td>\n",
       "      <td>1</td>\n",
       "      <td>1-Nov-11</td>\n",
       "      <td>34</td>\n",
       "      <td>[\"I, given, IV, surgey., I, immediately, becam...</td>\n",
       "    </tr>\n",
       "    <tr>\n",
       "      <th>161294</th>\n",
       "      <td>187382</td>\n",
       "      <td>Orencia</td>\n",
       "      <td>Rheumatoid Arthritis</td>\n",
       "      <td>\"Limited improvement after 4 months, developed...</td>\n",
       "      <td>2</td>\n",
       "      <td>15-Mar-14</td>\n",
       "      <td>35</td>\n",
       "      <td>[\"Limited, improvement, 4, months,, developed,...</td>\n",
       "    </tr>\n",
       "    <tr>\n",
       "      <th>161295</th>\n",
       "      <td>47128</td>\n",
       "      <td>Thyroid desiccated</td>\n",
       "      <td>Underactive Thyroid</td>\n",
       "      <td>\"I&amp;#039;ve been on thyroid medication 49 years...</td>\n",
       "      <td>10</td>\n",
       "      <td>19-Sep-15</td>\n",
       "      <td>79</td>\n",
       "      <td>[\"I&amp;#039;ve, thyroid, medication, 49, years,, ...</td>\n",
       "    </tr>\n",
       "    <tr>\n",
       "      <th>161296</th>\n",
       "      <td>215220</td>\n",
       "      <td>Lubiprostone</td>\n",
       "      <td>Constipation, Chronic</td>\n",
       "      <td>\"I&amp;#039;ve had chronic constipation all my adu...</td>\n",
       "      <td>9</td>\n",
       "      <td>13-Dec-14</td>\n",
       "      <td>116</td>\n",
       "      <td>[\"I&amp;#039;ve, chronic, constipation, adult, lif...</td>\n",
       "    </tr>\n",
       "  </tbody>\n",
       "</table>\n",
       "</div>"
      ],
      "text/plain": [
       "        uniqueID            drugName              condition  \\\n",
       "161292    191035             Campral     Alcohol Dependence   \n",
       "161293    127085      Metoclopramide        Nausea/Vomiting   \n",
       "161294    187382             Orencia   Rheumatoid Arthritis   \n",
       "161295     47128  Thyroid desiccated    Underactive Thyroid   \n",
       "161296    215220        Lubiprostone  Constipation, Chronic   \n",
       "\n",
       "                                                   review  rating       date  \\\n",
       "161292  \"I wrote my first report in Mid-October of 201...      10  31-May-15   \n",
       "161293  \"I was given this in IV before surgey. I immed...       1   1-Nov-11   \n",
       "161294  \"Limited improvement after 4 months, developed...       2  15-Mar-14   \n",
       "161295  \"I&#039;ve been on thyroid medication 49 years...      10  19-Sep-15   \n",
       "161296  \"I&#039;ve had chronic constipation all my adu...       9  13-Dec-14   \n",
       "\n",
       "        usefulCount                                     cleaned_review  \n",
       "161292          125  [\"I, wrote, first, report, Mid-October, 2014.,...  \n",
       "161293           34  [\"I, given, IV, surgey., I, immediately, becam...  \n",
       "161294           35  [\"Limited, improvement, 4, months,, developed,...  \n",
       "161295           79  [\"I&#039;ve, thyroid, medication, 49, years,, ...  \n",
       "161296          116  [\"I&#039;ve, chronic, constipation, adult, lif...  "
      ]
     },
     "execution_count": 7,
     "metadata": {},
     "output_type": "execute_result"
    }
   ],
   "source": [
    "def remove_sw(ls):\n",
    "    l=[word for word in ls if word not in stopwords]\n",
    "    return l\n",
    "df[\"cleaned_review\"]=df[\"cleaned_review\"].apply(lambda x:remove_sw(x))\n",
    "df.tail()"
   ]
  },
  {
   "cell_type": "markdown",
   "metadata": {},
   "source": [
    "## Some words in the lists are \"I&#039;ve so we have to remove them\n",
    "    # also some of the first words start with (\") so we have to remove it"
   ]
  },
  {
   "cell_type": "code",
   "execution_count": 8,
   "metadata": {},
   "outputs": [],
   "source": [
    "def remove(ls):\n",
    "    l=[word for word in ls if word!=\"\\\"I&#039;ve\"]\n",
    "    return l\n",
    "df[\"cleaned_review\"]=df[\"cleaned_review\"].apply(lambda x:remove(x))\n",
    "def firstword(sentence):\n",
    "    if sentence[0][0]=='\\\"':\n",
    "        s=sentence[0][1:]\n",
    "        sentence[0]=s\n",
    "        return sentence\n",
    "    else:\n",
    "        return sentence\n",
    "    \n",
    "df[\"cleaned_review\"]=df[\"cleaned_review\"].apply(lambda x:firstword(x))"
   ]
  },
  {
   "cell_type": "code",
   "execution_count": 8,
   "metadata": {
    "collapsed": true
   },
   "outputs": [
    {
     "data": {
      "text/html": [
       "<div>\n",
       "<style scoped>\n",
       "    .dataframe tbody tr th:only-of-type {\n",
       "        vertical-align: middle;\n",
       "    }\n",
       "\n",
       "    .dataframe tbody tr th {\n",
       "        vertical-align: top;\n",
       "    }\n",
       "\n",
       "    .dataframe thead th {\n",
       "        text-align: right;\n",
       "    }\n",
       "</style>\n",
       "<table border=\"1\" class=\"dataframe\">\n",
       "  <thead>\n",
       "    <tr style=\"text-align: right;\">\n",
       "      <th></th>\n",
       "      <th>uniqueID</th>\n",
       "      <th>drugName</th>\n",
       "      <th>condition</th>\n",
       "      <th>review</th>\n",
       "      <th>rating</th>\n",
       "      <th>date</th>\n",
       "      <th>usefulCount</th>\n",
       "      <th>cleaned_review</th>\n",
       "    </tr>\n",
       "  </thead>\n",
       "  <tbody>\n",
       "    <tr>\n",
       "      <th>161292</th>\n",
       "      <td>191035</td>\n",
       "      <td>Campral</td>\n",
       "      <td>Alcohol Dependence</td>\n",
       "      <td>\"I wrote my first report in Mid-October of 201...</td>\n",
       "      <td>10</td>\n",
       "      <td>31-May-15</td>\n",
       "      <td>125</td>\n",
       "      <td>[I, wrote, first, report, Mid-October, 2014., ...</td>\n",
       "    </tr>\n",
       "    <tr>\n",
       "      <th>161293</th>\n",
       "      <td>127085</td>\n",
       "      <td>Metoclopramide</td>\n",
       "      <td>Nausea/Vomiting</td>\n",
       "      <td>\"I was given this in IV before surgey. I immed...</td>\n",
       "      <td>1</td>\n",
       "      <td>1-Nov-11</td>\n",
       "      <td>34</td>\n",
       "      <td>[I, given, IV, surgey., I, immediately, became...</td>\n",
       "    </tr>\n",
       "    <tr>\n",
       "      <th>161294</th>\n",
       "      <td>187382</td>\n",
       "      <td>Orencia</td>\n",
       "      <td>Rheumatoid Arthritis</td>\n",
       "      <td>\"Limited improvement after 4 months, developed...</td>\n",
       "      <td>2</td>\n",
       "      <td>15-Mar-14</td>\n",
       "      <td>35</td>\n",
       "      <td>[Limited, improvement, 4, months,, developed, ...</td>\n",
       "    </tr>\n",
       "    <tr>\n",
       "      <th>161295</th>\n",
       "      <td>47128</td>\n",
       "      <td>Thyroid desiccated</td>\n",
       "      <td>Underactive Thyroid</td>\n",
       "      <td>\"I&amp;#039;ve been on thyroid medication 49 years...</td>\n",
       "      <td>10</td>\n",
       "      <td>19-Sep-15</td>\n",
       "      <td>79</td>\n",
       "      <td>[thyroid, medication, 49, years,, I, spent, fi...</td>\n",
       "    </tr>\n",
       "    <tr>\n",
       "      <th>161296</th>\n",
       "      <td>215220</td>\n",
       "      <td>Lubiprostone</td>\n",
       "      <td>Constipation, Chronic</td>\n",
       "      <td>\"I&amp;#039;ve had chronic constipation all my adu...</td>\n",
       "      <td>9</td>\n",
       "      <td>13-Dec-14</td>\n",
       "      <td>116</td>\n",
       "      <td>[chronic, constipation, adult, life., Tried, L...</td>\n",
       "    </tr>\n",
       "  </tbody>\n",
       "</table>\n",
       "</div>"
      ],
      "text/plain": [
       "        uniqueID            drugName              condition  \\\n",
       "161292    191035             Campral     Alcohol Dependence   \n",
       "161293    127085      Metoclopramide        Nausea/Vomiting   \n",
       "161294    187382             Orencia   Rheumatoid Arthritis   \n",
       "161295     47128  Thyroid desiccated    Underactive Thyroid   \n",
       "161296    215220        Lubiprostone  Constipation, Chronic   \n",
       "\n",
       "                                                   review  rating       date  \\\n",
       "161292  \"I wrote my first report in Mid-October of 201...      10  31-May-15   \n",
       "161293  \"I was given this in IV before surgey. I immed...       1   1-Nov-11   \n",
       "161294  \"Limited improvement after 4 months, developed...       2  15-Mar-14   \n",
       "161295  \"I&#039;ve been on thyroid medication 49 years...      10  19-Sep-15   \n",
       "161296  \"I&#039;ve had chronic constipation all my adu...       9  13-Dec-14   \n",
       "\n",
       "        usefulCount                                     cleaned_review  \n",
       "161292          125  [I, wrote, first, report, Mid-October, 2014., ...  \n",
       "161293           34  [I, given, IV, surgey., I, immediately, became...  \n",
       "161294           35  [Limited, improvement, 4, months,, developed, ...  \n",
       "161295           79  [thyroid, medication, 49, years,, I, spent, fi...  \n",
       "161296          116  [chronic, constipation, adult, life., Tried, L...  "
      ]
     },
     "execution_count": 8,
     "metadata": {},
     "output_type": "execute_result"
    }
   ],
   "source": [
    "df.tail()"
   ]
  },
  {
   "cell_type": "markdown",
   "metadata": {},
   "source": [
    "## Now again remove stop words as some words are now formed after doing above process"
   ]
  },
  {
   "cell_type": "code",
   "execution_count": 9,
   "metadata": {},
   "outputs": [
    {
     "data": {
      "text/html": [
       "<div>\n",
       "<style scoped>\n",
       "    .dataframe tbody tr th:only-of-type {\n",
       "        vertical-align: middle;\n",
       "    }\n",
       "\n",
       "    .dataframe tbody tr th {\n",
       "        vertical-align: top;\n",
       "    }\n",
       "\n",
       "    .dataframe thead th {\n",
       "        text-align: right;\n",
       "    }\n",
       "</style>\n",
       "<table border=\"1\" class=\"dataframe\">\n",
       "  <thead>\n",
       "    <tr style=\"text-align: right;\">\n",
       "      <th></th>\n",
       "      <th>uniqueID</th>\n",
       "      <th>drugName</th>\n",
       "      <th>condition</th>\n",
       "      <th>review</th>\n",
       "      <th>rating</th>\n",
       "      <th>date</th>\n",
       "      <th>usefulCount</th>\n",
       "      <th>cleaned_review</th>\n",
       "    </tr>\n",
       "  </thead>\n",
       "  <tbody>\n",
       "    <tr>\n",
       "      <th>161292</th>\n",
       "      <td>191035</td>\n",
       "      <td>Campral</td>\n",
       "      <td>Alcohol Dependence</td>\n",
       "      <td>\"I wrote my first report in Mid-October of 201...</td>\n",
       "      <td>10</td>\n",
       "      <td>31-May-15</td>\n",
       "      <td>125</td>\n",
       "      <td>[I, wrote, first, report, Mid-October, 2014., ...</td>\n",
       "    </tr>\n",
       "    <tr>\n",
       "      <th>161293</th>\n",
       "      <td>127085</td>\n",
       "      <td>Metoclopramide</td>\n",
       "      <td>Nausea/Vomiting</td>\n",
       "      <td>\"I was given this in IV before surgey. I immed...</td>\n",
       "      <td>1</td>\n",
       "      <td>1-Nov-11</td>\n",
       "      <td>34</td>\n",
       "      <td>[I, given, IV, surgey., I, immediately, became...</td>\n",
       "    </tr>\n",
       "    <tr>\n",
       "      <th>161294</th>\n",
       "      <td>187382</td>\n",
       "      <td>Orencia</td>\n",
       "      <td>Rheumatoid Arthritis</td>\n",
       "      <td>\"Limited improvement after 4 months, developed...</td>\n",
       "      <td>2</td>\n",
       "      <td>15-Mar-14</td>\n",
       "      <td>35</td>\n",
       "      <td>[Limited, improvement, 4, months,, developed, ...</td>\n",
       "    </tr>\n",
       "    <tr>\n",
       "      <th>161295</th>\n",
       "      <td>47128</td>\n",
       "      <td>Thyroid desiccated</td>\n",
       "      <td>Underactive Thyroid</td>\n",
       "      <td>\"I&amp;#039;ve been on thyroid medication 49 years...</td>\n",
       "      <td>10</td>\n",
       "      <td>19-Sep-15</td>\n",
       "      <td>79</td>\n",
       "      <td>[thyroid, medication, 49, years,, I, spent, fi...</td>\n",
       "    </tr>\n",
       "    <tr>\n",
       "      <th>161296</th>\n",
       "      <td>215220</td>\n",
       "      <td>Lubiprostone</td>\n",
       "      <td>Constipation, Chronic</td>\n",
       "      <td>\"I&amp;#039;ve had chronic constipation all my adu...</td>\n",
       "      <td>9</td>\n",
       "      <td>13-Dec-14</td>\n",
       "      <td>116</td>\n",
       "      <td>[chronic, constipation, adult, life., Tried, L...</td>\n",
       "    </tr>\n",
       "  </tbody>\n",
       "</table>\n",
       "</div>"
      ],
      "text/plain": [
       "        uniqueID            drugName              condition  \\\n",
       "161292    191035             Campral     Alcohol Dependence   \n",
       "161293    127085      Metoclopramide        Nausea/Vomiting   \n",
       "161294    187382             Orencia   Rheumatoid Arthritis   \n",
       "161295     47128  Thyroid desiccated    Underactive Thyroid   \n",
       "161296    215220        Lubiprostone  Constipation, Chronic   \n",
       "\n",
       "                                                   review  rating       date  \\\n",
       "161292  \"I wrote my first report in Mid-October of 201...      10  31-May-15   \n",
       "161293  \"I was given this in IV before surgey. I immed...       1   1-Nov-11   \n",
       "161294  \"Limited improvement after 4 months, developed...       2  15-Mar-14   \n",
       "161295  \"I&#039;ve been on thyroid medication 49 years...      10  19-Sep-15   \n",
       "161296  \"I&#039;ve had chronic constipation all my adu...       9  13-Dec-14   \n",
       "\n",
       "        usefulCount                                     cleaned_review  \n",
       "161292          125  [I, wrote, first, report, Mid-October, 2014., ...  \n",
       "161293           34  [I, given, IV, surgey., I, immediately, became...  \n",
       "161294           35  [Limited, improvement, 4, months,, developed, ...  \n",
       "161295           79  [thyroid, medication, 49, years,, I, spent, fi...  \n",
       "161296          116  [chronic, constipation, adult, life., Tried, L...  "
      ]
     },
     "execution_count": 9,
     "metadata": {},
     "output_type": "execute_result"
    }
   ],
   "source": [
    "def remove_sw(ls):\n",
    "    l=[word for word in ls if word not in stopwords]\n",
    "    return l\n",
    "df[\"cleaned_review\"]=df[\"cleaned_review\"].apply(lambda x:remove_sw(x))\n",
    "df.tail()"
   ]
  },
  {
   "cell_type": "code",
   "execution_count": 10,
   "metadata": {},
   "outputs": [],
   "source": [
    "df.drop(['review'], axis = 1, inplace=True)"
   ]
  },
  {
   "cell_type": "code",
   "execution_count": 11,
   "metadata": {},
   "outputs": [
    {
     "data": {
      "text/html": [
       "<div>\n",
       "<style scoped>\n",
       "    .dataframe tbody tr th:only-of-type {\n",
       "        vertical-align: middle;\n",
       "    }\n",
       "\n",
       "    .dataframe tbody tr th {\n",
       "        vertical-align: top;\n",
       "    }\n",
       "\n",
       "    .dataframe thead th {\n",
       "        text-align: right;\n",
       "    }\n",
       "</style>\n",
       "<table border=\"1\" class=\"dataframe\">\n",
       "  <thead>\n",
       "    <tr style=\"text-align: right;\">\n",
       "      <th></th>\n",
       "      <th>uniqueID</th>\n",
       "      <th>drugName</th>\n",
       "      <th>condition</th>\n",
       "      <th>rating</th>\n",
       "      <th>date</th>\n",
       "      <th>usefulCount</th>\n",
       "      <th>cleaned_review</th>\n",
       "    </tr>\n",
       "  </thead>\n",
       "  <tbody>\n",
       "    <tr>\n",
       "      <th>161292</th>\n",
       "      <td>191035</td>\n",
       "      <td>Campral</td>\n",
       "      <td>Alcohol Dependence</td>\n",
       "      <td>10</td>\n",
       "      <td>31-May-15</td>\n",
       "      <td>125</td>\n",
       "      <td>[I, wrote, first, report, Mid-October, 2014., ...</td>\n",
       "    </tr>\n",
       "    <tr>\n",
       "      <th>161293</th>\n",
       "      <td>127085</td>\n",
       "      <td>Metoclopramide</td>\n",
       "      <td>Nausea/Vomiting</td>\n",
       "      <td>1</td>\n",
       "      <td>1-Nov-11</td>\n",
       "      <td>34</td>\n",
       "      <td>[I, given, IV, surgey., I, immediately, became...</td>\n",
       "    </tr>\n",
       "    <tr>\n",
       "      <th>161294</th>\n",
       "      <td>187382</td>\n",
       "      <td>Orencia</td>\n",
       "      <td>Rheumatoid Arthritis</td>\n",
       "      <td>2</td>\n",
       "      <td>15-Mar-14</td>\n",
       "      <td>35</td>\n",
       "      <td>[Limited, improvement, 4, months,, developed, ...</td>\n",
       "    </tr>\n",
       "    <tr>\n",
       "      <th>161295</th>\n",
       "      <td>47128</td>\n",
       "      <td>Thyroid desiccated</td>\n",
       "      <td>Underactive Thyroid</td>\n",
       "      <td>10</td>\n",
       "      <td>19-Sep-15</td>\n",
       "      <td>79</td>\n",
       "      <td>[thyroid, medication, 49, years,, I, spent, fi...</td>\n",
       "    </tr>\n",
       "    <tr>\n",
       "      <th>161296</th>\n",
       "      <td>215220</td>\n",
       "      <td>Lubiprostone</td>\n",
       "      <td>Constipation, Chronic</td>\n",
       "      <td>9</td>\n",
       "      <td>13-Dec-14</td>\n",
       "      <td>116</td>\n",
       "      <td>[chronic, constipation, adult, life., Tried, L...</td>\n",
       "    </tr>\n",
       "  </tbody>\n",
       "</table>\n",
       "</div>"
      ],
      "text/plain": [
       "        uniqueID            drugName              condition  rating  \\\n",
       "161292    191035             Campral     Alcohol Dependence      10   \n",
       "161293    127085      Metoclopramide        Nausea/Vomiting       1   \n",
       "161294    187382             Orencia   Rheumatoid Arthritis       2   \n",
       "161295     47128  Thyroid desiccated    Underactive Thyroid      10   \n",
       "161296    215220        Lubiprostone  Constipation, Chronic       9   \n",
       "\n",
       "             date  usefulCount  \\\n",
       "161292  31-May-15          125   \n",
       "161293   1-Nov-11           34   \n",
       "161294  15-Mar-14           35   \n",
       "161295  19-Sep-15           79   \n",
       "161296  13-Dec-14          116   \n",
       "\n",
       "                                           cleaned_review  \n",
       "161292  [I, wrote, first, report, Mid-October, 2014., ...  \n",
       "161293  [I, given, IV, surgey., I, immediately, became...  \n",
       "161294  [Limited, improvement, 4, months,, developed, ...  \n",
       "161295  [thyroid, medication, 49, years,, I, spent, fi...  \n",
       "161296  [chronic, constipation, adult, life., Tried, L...  "
      ]
     },
     "execution_count": 11,
     "metadata": {},
     "output_type": "execute_result"
    }
   ],
   "source": [
    "df.tail()"
   ]
  },
  {
   "cell_type": "code",
   "execution_count": 12,
   "metadata": {},
   "outputs": [
    {
     "data": {
      "text/plain": [
       "<bound method NDFrame.describe of         uniqueID                  drugName                     condition  \\\n",
       "0         206461                 Valsartan  Left Ventricular Dysfunction   \n",
       "1          95260                Guanfacine                          ADHD   \n",
       "2          92703                    Lybrel                 Birth Control   \n",
       "3         138000                Ortho Evra                 Birth Control   \n",
       "4          35696  Buprenorphine / naloxone             Opiate Dependence   \n",
       "...          ...                       ...                           ...   \n",
       "161292    191035                   Campral            Alcohol Dependence   \n",
       "161293    127085            Metoclopramide               Nausea/Vomiting   \n",
       "161294    187382                   Orencia          Rheumatoid Arthritis   \n",
       "161295     47128        Thyroid desiccated           Underactive Thyroid   \n",
       "161296    215220              Lubiprostone         Constipation, Chronic   \n",
       "\n",
       "        rating       date  usefulCount  \\\n",
       "0            9  20-May-12           27   \n",
       "1            8  27-Apr-10          192   \n",
       "2            5  14-Dec-09           17   \n",
       "3            8   3-Nov-15           10   \n",
       "4            9  27-Nov-16           37   \n",
       "...        ...        ...          ...   \n",
       "161292      10  31-May-15          125   \n",
       "161293       1   1-Nov-11           34   \n",
       "161294       2  15-Mar-14           35   \n",
       "161295      10  19-Sep-15           79   \n",
       "161296       9  13-Dec-14          116   \n",
       "\n",
       "                                           cleaned_review  \n",
       "0       [It, side, effect,, I, take, combination, Byst...  \n",
       "1       [My, son, halfway, fourth, week, Intuniv., We,...  \n",
       "2       [I, used, take, another, oral, contraceptive,,...  \n",
       "3       [This, first, time, using, form, birth, contro...  \n",
       "4       [Suboxone, completely, turned, life, around., ...  \n",
       "...                                                   ...  \n",
       "161292  [I, wrote, first, report, Mid-October, 2014., ...  \n",
       "161293  [I, given, IV, surgey., I, immediately, became...  \n",
       "161294  [Limited, improvement, 4, months,, developed, ...  \n",
       "161295  [thyroid, medication, 49, years,, I, spent, fi...  \n",
       "161296  [chronic, constipation, adult, life., Tried, L...  \n",
       "\n",
       "[161297 rows x 7 columns]>"
      ]
     },
     "execution_count": 12,
     "metadata": {},
     "output_type": "execute_result"
    }
   ],
   "source": [
    "df.describe"
   ]
  },
  {
   "cell_type": "code",
   "execution_count": 13,
   "metadata": {},
   "outputs": [
    {
     "data": {
      "text/plain": [
       "<bound method DataFrame.count of         uniqueID                  drugName                     condition  \\\n",
       "0         206461                 Valsartan  Left Ventricular Dysfunction   \n",
       "1          95260                Guanfacine                          ADHD   \n",
       "2          92703                    Lybrel                 Birth Control   \n",
       "3         138000                Ortho Evra                 Birth Control   \n",
       "4          35696  Buprenorphine / naloxone             Opiate Dependence   \n",
       "...          ...                       ...                           ...   \n",
       "161292    191035                   Campral            Alcohol Dependence   \n",
       "161293    127085            Metoclopramide               Nausea/Vomiting   \n",
       "161294    187382                   Orencia          Rheumatoid Arthritis   \n",
       "161295     47128        Thyroid desiccated           Underactive Thyroid   \n",
       "161296    215220              Lubiprostone         Constipation, Chronic   \n",
       "\n",
       "        rating       date  usefulCount  \\\n",
       "0            9  20-May-12           27   \n",
       "1            8  27-Apr-10          192   \n",
       "2            5  14-Dec-09           17   \n",
       "3            8   3-Nov-15           10   \n",
       "4            9  27-Nov-16           37   \n",
       "...        ...        ...          ...   \n",
       "161292      10  31-May-15          125   \n",
       "161293       1   1-Nov-11           34   \n",
       "161294       2  15-Mar-14           35   \n",
       "161295      10  19-Sep-15           79   \n",
       "161296       9  13-Dec-14          116   \n",
       "\n",
       "                                           cleaned_review  \n",
       "0       [It, side, effect,, I, take, combination, Byst...  \n",
       "1       [My, son, halfway, fourth, week, Intuniv., We,...  \n",
       "2       [I, used, take, another, oral, contraceptive,,...  \n",
       "3       [This, first, time, using, form, birth, contro...  \n",
       "4       [Suboxone, completely, turned, life, around., ...  \n",
       "...                                                   ...  \n",
       "161292  [I, wrote, first, report, Mid-October, 2014., ...  \n",
       "161293  [I, given, IV, surgey., I, immediately, became...  \n",
       "161294  [Limited, improvement, 4, months,, developed, ...  \n",
       "161295  [thyroid, medication, 49, years,, I, spent, fi...  \n",
       "161296  [chronic, constipation, adult, life., Tried, L...  \n",
       "\n",
       "[161297 rows x 7 columns]>"
      ]
     },
     "execution_count": 13,
     "metadata": {},
     "output_type": "execute_result"
    }
   ],
   "source": [
    "df.count"
   ]
  },
  {
   "cell_type": "code",
   "execution_count": 14,
   "metadata": {},
   "outputs": [
    {
     "name": "stdout",
     "output_type": "stream",
     "text": [
      "<class 'pandas.core.frame.DataFrame'>\n",
      "RangeIndex: 161297 entries, 0 to 161296\n",
      "Data columns (total 7 columns):\n",
      " #   Column          Non-Null Count   Dtype \n",
      "---  ------          --------------   ----- \n",
      " 0   uniqueID        161297 non-null  int64 \n",
      " 1   drugName        161297 non-null  object\n",
      " 2   condition       160398 non-null  object\n",
      " 3   rating          161297 non-null  int64 \n",
      " 4   date            161297 non-null  object\n",
      " 5   usefulCount     161297 non-null  int64 \n",
      " 6   cleaned_review  161297 non-null  object\n",
      "dtypes: int64(3), object(4)\n",
      "memory usage: 8.6+ MB\n"
     ]
    }
   ],
   "source": [
    "# taking out information from the data\n",
    "\n",
    "df.info()"
   ]
  },
  {
   "cell_type": "code",
   "execution_count": 16,
   "metadata": {},
   "outputs": [
    {
     "data": {
      "text/plain": [
       "uniqueID          False\n",
       "drugName          False\n",
       "condition          True\n",
       "rating            False\n",
       "date              False\n",
       "usefulCount       False\n",
       "cleaned_review    False\n",
       "dtype: bool"
      ]
     },
     "execution_count": 16,
     "metadata": {},
     "output_type": "execute_result"
    }
   ],
   "source": [
    "# checking if the data contains any NULL values\n",
    "\n",
    "df.isnull().any()"
   ]
  },
  {
   "cell_type": "markdown",
   "metadata": {},
   "source": [
    "# DATA VISUALIZATION"
   ]
  },
  {
   "cell_type": "code",
   "execution_count": 22,
   "metadata": {},
   "outputs": [
    {
     "data": {
      "image/png": "[encoded data removed]",
      "text/plain": [
       "<Figure size 1080x576 with 1 Axes>"
      ]
     },
     "metadata": {},
     "output_type": "display_data"
    }
   ],
   "source": [
    "# This barplot shows the top 20 drugs with the 10/10 rating\n",
    "\n",
    "# Setting the Parameter\n",
    "sns.set(font_scale = 1.2, style = 'darkgrid')\n",
    "plt.rcParams['figure.figsize'] = [15, 8]\n",
    "\n",
    "rating = dict(df.loc[df.rating == 10, \"drugName\"].value_counts())\n",
    "drugname = list(rating.keys())\n",
    "drug_rating = list(rating.values())\n",
    "\n",
    "sns_rating = sns.barplot(x = drugname[0:20], y = drug_rating[0:20])\n",
    "\n",
    "sns_rating.set_title('Top 20 drugs with 10/10 rating')\n",
    "sns_rating.set_ylabel(\"Number of Ratings\")\n",
    "sns_rating.set_xlabel(\"Drug Names\")\n",
    "plt.setp(sns_rating.get_xticklabels(), rotation=90);"
   ]
  },
  {
   "cell_type": "code",
   "execution_count": 25,
   "metadata": {},
   "outputs": [
    {
     "name": "stderr",
     "output_type": "stream",
     "text": [
      "C:\\Users\\AMAN SHRIVASTAVA\\anaconda3\\lib\\site-packages\\seaborn\\_decorators.py:36: FutureWarning: Pass the following variable as a keyword arg: x. From version 0.12, the only valid positional argument will be `data`, and passing other arguments without an explicit keyword will result in an error or misinterpretation.\n",
      "  warnings.warn(\n",
      "C:\\Users\\AMAN SHRIVASTAVA\\anaconda3\\lib\\site-packages\\seaborn\\distributions.py:2551: FutureWarning: `distplot` is a deprecated function and will be removed in a future version. Please adapt your code to use either `displot` (a figure-level function with similar flexibility) or `histplot` (an axes-level function for histograms).\n",
      "  warnings.warn(msg, FutureWarning)\n"
     ]
    },
    {
     "data": {
      "text/plain": [
       "Text(0.5, 0, 'Rating')"
      ]
     },
     "execution_count": 25,
     "metadata": {},
     "output_type": "execute_result"
    },
    {
     "data": {
      "image/png": "[encoded data removed]",
      "text/plain": [
       "<Figure size 1440x576 with 2 Axes>"
      ]
     },
     "metadata": {},
     "output_type": "display_data"
    }
   ],
   "source": [
    "# A countplot of the ratings so we can see the distribution of the ratings\n",
    "plt.rcParams['figure.figsize'] = [20,8]\n",
    "sns.set(font_scale = 1.4, style = 'darkgrid')\n",
    "fig, ax = plt.subplots(1, 2)\n",
    "\n",
    "sns_1 = sns.countplot(df['rating'], palette = 'spring', order = list(range(10, 0, -1)), ax = ax[0])\n",
    "sns_2 = sns.distplot(df['rating'], ax = ax[1])\n",
    "sns_1.set_title('Count of Ratings')\n",
    "sns_1.set_xlabel(\"Rating\")\n",
    "\n",
    "sns_2.set_title('Distribution of Ratings')\n",
    "sns_2.set_xlabel(\"Rating\")"
   ]
  },
  {
   "cell_type": "markdown",
   "metadata": {},
   "source": [
    "* The shows a distribution plot on the right hand side and a bar graph of the same on the left hand side. This shows the distribution of the ratings from 1 to 10 in the data set."
   ]
  },
  {
   "cell_type": "code",
   "execution_count": 26,
   "metadata": {},
   "outputs": [
    {
     "data": {
      "image/png": "[encoded data removed]",
      "text/plain": [
       "<Figure size 1296x504 with 1 Axes>"
      ]
     },
     "metadata": {},
     "output_type": "display_data"
    }
   ],
   "source": [
    "# This barplot show the top 10 conditions the people are suffering.\n",
    "cond = dict(df['condition'].value_counts())\n",
    "top_condition = list(cond.keys())[0:10]\n",
    "values = list(cond.values())[0:10]\n",
    "sns.set(style = 'darkgrid', font_scale = 1.3)\n",
    "plt.rcParams['figure.figsize'] = [18, 7]\n",
    "\n",
    "sns_ = sns.barplot(x = top_condition, y = values, palette = 'winter')\n",
    "sns_.set_title(\"Top 10 conditions\")\n",
    "sns_.set_xlabel(\"Conditions\")\n",
    "sns_.set_ylabel(\"Count\");"
   ]
  },
  {
   "cell_type": "markdown",
   "metadata": {},
   "source": [
    "* The is a bar graph which exhibits the top 10 conditions the people are suffering from. In this data set 'Birth Control' is the most prominent condition by a very big margin followed by Depression and pain."
   ]
  },
  {
   "cell_type": "code",
   "execution_count": 27,
   "metadata": {},
   "outputs": [
    {
     "data": {
      "text/plain": [
       "1.0    121222\n",
       "0.0     40075\n",
       "Name: Review_Sentiment, dtype: int64"
      ]
     },
     "execution_count": 27,
     "metadata": {},
     "output_type": "execute_result"
    }
   ],
   "source": [
    "# feature engineering \n",
    "# let's make a new column review sentiment \n",
    "\n",
    "df.loc[(df['rating'] >= 5), 'Review_Sentiment'] = 1\n",
    "df.loc[(df['rating'] < 5), 'Review_Sentiment'] = 0\n",
    "\n",
    "df['Review_Sentiment'].value_counts()"
   ]
  },
  {
   "cell_type": "code",
   "execution_count": 28,
   "metadata": {},
   "outputs": [
    {
     "data": {
      "image/png": "[encoded data removed]",
      "text/plain": [
       "<Figure size 720x720 with 1 Axes>"
      ]
     },
     "metadata": {},
     "output_type": "display_data"
    }
   ],
   "source": [
    "# a pie chart to represent the sentiments of the patients\n",
    "\n",
    "size = [121222,40075 ]\n",
    "colors = ['lightblue', 'navy']\n",
    "labels = \"Positive Sentiment\",\"Negative Sentiment\"\n",
    "explode = [0, 0.1]\n",
    "\n",
    "plt.rcParams['figure.figsize'] = (10, 10)\n",
    "plt.pie(size, colors = colors, labels = labels, explode = explode, autopct = '%.2f%%')\n",
    "plt.axis('off')\n",
    "plt.title('Pie Chart Representation of Sentiments', fontsize = 25)\n",
    "plt.legend()\n",
    "plt.show()"
   ]
  },
  {
   "cell_type": "markdown",
   "metadata": {},
   "source": [
    "## checking whether column is tokenised or not"
   ]
  },
  {
   "cell_type": "code",
   "execution_count": 18,
   "metadata": {
    "collapsed": true
   },
   "outputs": [
    {
     "data": {
      "text/plain": [
       "['It',\n",
       " 'side',\n",
       " 'effect,',\n",
       " 'I',\n",
       " 'take',\n",
       " 'combination',\n",
       " 'Bystolic',\n",
       " '5',\n",
       " 'Mg',\n",
       " 'Fish',\n",
       " 'Oil\"']"
      ]
     },
     "execution_count": 18,
     "metadata": {},
     "output_type": "execute_result"
    }
   ],
   "source": [
    "l=df[\"cleaned_review\"][0]\n",
    "l"
   ]
  },
  {
   "cell_type": "markdown",
   "metadata": {},
   "source": [
    "# STEM SENTENCE FUNCTION"
   ]
  },
  {
   "cell_type": "code",
   "execution_count": 19,
   "metadata": {},
   "outputs": [],
   "source": [
    "from nltk.stem import PorterStemmer\n",
    "porter=PorterStemmer()"
   ]
  },
  {
   "cell_type": "code",
   "execution_count": 20,
   "metadata": {},
   "outputs": [],
   "source": [
    "def stemsentence(token_words):\n",
    "    stem_sentence=[]\n",
    "    for word in token_words:\n",
    "        stem_sentence.append(porter.stem(word))\n",
    "    return stem_sentence\n",
    "df[\"cleaned_review\"]=df[\"cleaned_review\"].apply(lambda x:stemsentence(x))\n"
   ]
  },
  {
   "cell_type": "code",
   "execution_count": 26,
   "metadata": {},
   "outputs": [
    {
     "data": {
      "text/plain": [
       "['fibromyalgia',\n",
       " '14',\n",
       " 'years.',\n",
       " 'I',\n",
       " 'prescrib',\n",
       " 'gabapentin',\n",
       " 'within',\n",
       " 'day',\n",
       " 'I',\n",
       " 'horrifi',\n",
       " 'headach',\n",
       " 'felt',\n",
       " 'like',\n",
       " 'brain',\n",
       " 'go',\n",
       " 'explode.',\n",
       " 'I',\n",
       " 'issu',\n",
       " 'lyrica,',\n",
       " 'cymbalta,',\n",
       " 'savella',\n",
       " 'amitryptiline.',\n",
       " 'mayb',\n",
       " 'brain',\n",
       " 'chemistri',\n",
       " 'doesn&#039;t',\n",
       " 'like',\n",
       " 'alter',\n",
       " 'type',\n",
       " 'med?',\n",
       " 'I',\n",
       " 'know',\n",
       " 'reaction',\n",
       " 'scare',\n",
       " 'badli',\n",
       " 'medic',\n",
       " 'I',\n",
       " 'use',\n",
       " 'fibromyalgia',\n",
       " 'tramadol.',\n",
       " 'fortun',\n",
       " 'keep',\n",
       " 'edg',\n",
       " 'pain',\n",
       " 'I',\n",
       " 'work',\n",
       " 'full',\n",
       " 'time.',\n",
       " 'If',\n",
       " 'would',\n",
       " 'work',\n",
       " 'soul',\n",
       " 'crush',\n",
       " 'fatigue!',\n",
       " ':-)\"']"
      ]
     },
     "execution_count": 26,
     "metadata": {},
     "output_type": "execute_result"
    }
   ],
   "source": [
    "df[\"cleaned_review\"][9000]"
   ]
  },
  {
   "cell_type": "code",
   "execution_count": 24,
   "metadata": {
    "collapsed": true
   },
   "outputs": [
    {
     "data": {
      "text/plain": [
       "['My',\n",
       " 'son',\n",
       " 'halfway',\n",
       " 'fourth',\n",
       " 'week',\n",
       " 'intuniv.',\n",
       " 'We',\n",
       " 'becam',\n",
       " 'concern',\n",
       " 'began',\n",
       " 'last',\n",
       " 'week,',\n",
       " 'start',\n",
       " 'take',\n",
       " 'highest',\n",
       " 'dose',\n",
       " 'on.',\n",
       " 'for',\n",
       " 'two',\n",
       " 'days,',\n",
       " 'could',\n",
       " 'hardli',\n",
       " 'get',\n",
       " 'bed,',\n",
       " 'cranky,',\n",
       " 'slept',\n",
       " 'nearli',\n",
       " '8',\n",
       " 'hour',\n",
       " 'drive',\n",
       " 'home',\n",
       " 'school',\n",
       " 'vacat',\n",
       " '(veri',\n",
       " 'unusu',\n",
       " 'him.)',\n",
       " 'I',\n",
       " 'call',\n",
       " 'doctor',\n",
       " 'monday',\n",
       " 'morn',\n",
       " 'said',\n",
       " 'stick',\n",
       " 'days.',\n",
       " 'see',\n",
       " 'school,',\n",
       " 'get',\n",
       " 'morning.',\n",
       " 'the',\n",
       " 'last',\n",
       " 'two',\n",
       " 'day',\n",
       " 'problem',\n",
       " 'free.',\n",
       " 'He',\n",
       " 'much',\n",
       " 'agreeabl',\n",
       " 'ever.',\n",
       " 'He',\n",
       " 'less',\n",
       " 'emot',\n",
       " '(a',\n",
       " 'good',\n",
       " 'thing),',\n",
       " 'less',\n",
       " 'cranky.',\n",
       " 'He',\n",
       " 'rememb',\n",
       " 'thing',\n",
       " 'should.',\n",
       " 'overal',\n",
       " 'behavior',\n",
       " 'better.',\n",
       " 'We',\n",
       " 'tri',\n",
       " 'mani',\n",
       " 'differ',\n",
       " 'medic',\n",
       " 'far',\n",
       " 'effective.\"']"
      ]
     },
     "execution_count": 24,
     "metadata": {},
     "output_type": "execute_result"
    }
   ],
   "source": [
    "df[\"cleaned_review\"][1]"
   ]
  },
  {
   "cell_type": "markdown",
   "metadata": {},
   "source": [
    "stemming done in cleaned review column"
   ]
  },
  {
   "cell_type": "markdown",
   "metadata": {},
   "source": [
    "     #Below cell is just to remove punctuations from tokenize sentences"
   ]
  },
  {
   "cell_type": "code",
   "execution_count": 27,
   "metadata": {},
   "outputs": [],
   "source": [
    "punctuations=['.','?','!',':',',',';']\n",
    "\n",
    "def remove_punctuations(tokenize_sentence):\n",
    "    for word in tokenize_sentence:\n",
    "        if word in punctuations:\n",
    "            tokenize_sentence.remove(word)\n",
    "    return tokenize_sentence\n",
    "df[\"cleaned_review\"]=df[\"cleaned_review\"].apply(lambda x:remove_punctuations(x))"
   ]
  },
  {
   "cell_type": "markdown",
   "metadata": {},
   "source": [
    " ## Now as lemmatization and stemming is done we shall look upon tf/idf  vectorizer "
   ]
  },
  {
   "cell_type": "code",
   "execution_count": null,
   "metadata": {},
   "outputs": [],
   "source": []
  }
 ],
 "metadata": {
  "kernelspec": {
   "display_name": "Python 3",
   "language": "python",
   "name": "python3"
  },
  "language_info": {
   "codemirror_mode": {
    "name": "ipython",
    "version": 3
   },
   "file_extension": ".py",
   "mimetype": "text/x-python",
   "name": "python",
   "nbconvert_exporter": "python",
   "pygments_lexer": "ipython3",
   "version": "3.8.5"
  }
 },
 "nbformat": 4,
 "nbformat_minor": 4
}
